{
  "nbformat": 4,
  "nbformat_minor": 0,
  "metadata": {
    "colab": {
      "provenance": [],
      "collapsed_sections": [],
      "authorship_tag": "ABX9TyMix4/Zh1PNd/zkXHGheaZV",
      "include_colab_link": true
    },
    "kernelspec": {
      "name": "python3",
      "display_name": "Python 3"
    },
    "language_info": {
      "name": "python"
    }
  },
  "cells": [
    {
      "cell_type": "markdown",
      "metadata": {
        "id": "view-in-github",
        "colab_type": "text"
      },
      "source": [
        "<a href=\"https://colab.research.google.com/github/YahiaML/Manga-Downloader/blob/main/Test_yard.ipynb\" target=\"_parent\"><img src=\"https://colab.research.google.com/assets/colab-badge.svg\" alt=\"Open In Colab\"/></a>"
      ]
    },
    {
      "cell_type": "markdown",
      "source": [
        "#Sucsess"
      ],
      "metadata": {
        "id": "yFc_zF1S7gtS"
      }
    },
    {
      "cell_type": "code",
      "source": [
        "from bs4 import *\n",
        "import requests\n",
        "import os\n",
        "\n",
        "# CREATE FOLDER\n",
        "def folder_create(images):\n",
        "\ttry:\n",
        "\t\tfolder_name = input(\"Enter Folder Name:- \")\n",
        "\t\t# folder creation\n",
        "\t\tos.mkdir(folder_name)\n",
        "\n",
        "\t# if folder exists with that name, ask another name\n",
        "\texcept:\n",
        "\t\tprint(\"Folder Exist with that name!\")\n",
        "\t\tfolder_create()\n",
        "\n",
        "\t# image downloading start\n",
        "\tdownload_images(images, folder_name)\n",
        "\n",
        "\n",
        "# DOWNLOAD ALL IMAGES FROM THAT URL\n",
        "def download_images(images, folder_name):\n",
        "\n",
        "\t# initial count is zero\n",
        "\tcount = 0\n",
        "\n",
        "\t# print total images found in URL\n",
        "\tprint(f\"Total {len(images)} Image Found!\")\n",
        "\n",
        "\t# checking if images is not zero\n",
        "\tif len(images) != 0:\n",
        "\t\tfor i, image in enumerate(images):\n",
        "\t\t\t# From image tag ,Fetch image Source URL\n",
        "\n",
        "\t\t\t\t\t\t# 1.data-srcset\n",
        "\t\t\t\t\t\t# 2.data-src\n",
        "\t\t\t\t\t\t# 3.data-fallback-src\n",
        "\t\t\t\t\t\t# 4.src\n",
        "\n",
        "\t\t\t# Here we will use exception handling\n",
        "\n",
        "\t\t\t# first we will search for \"data-srcset\" in img tag\n",
        "\t\t\ttry:\n",
        "\t\t\t\t# In image tag ,searching for \"data-srcset\"\n",
        "\t\t\t\timage_link = image[\"data-srcset\"]\n",
        "\t\t\t\t\n",
        "\t\t\t# then we will search for \"data-src\" in img\n",
        "\t\t\t# tag and so on..\n",
        "\t\t\texcept:\n",
        "\t\t\t\ttry:\n",
        "\t\t\t\t\t# In image tag ,searching for \"data-src\"\n",
        "\t\t\t\t\timage_link = image[\"data-src\"]\n",
        "\t\t\t\texcept:\n",
        "\t\t\t\t\ttry:\n",
        "\t\t\t\t\t\t# In image tag ,searching for \"data-fallback-src\"\n",
        "\t\t\t\t\t\timage_link = image[\"data-fallback-src\"]\n",
        "\t\t\t\t\texcept:\n",
        "\t\t\t\t\t\ttry:\n",
        "\t\t\t\t\t\t\t# In image tag ,searching for \"src\"\n",
        "\t\t\t\t\t\t\timage_link = image[\"src\"]\n",
        "\n",
        "\t\t\t\t\t\t# if no Source URL found\n",
        "\t\t\t\t\t\texcept:\n",
        "\t\t\t\t\t\t\tpass\n",
        "\n",
        "\t\t\t# After getting Image Source URL\n",
        "\t\t\t# We will try to get the content of image\n",
        "\t\t\ttry:\n",
        "\t\t\t\tr = requests.get(image_link).content\n",
        "\t\t\t\ttry:\n",
        "\n",
        "\t\t\t\t\t# possibility of decode\n",
        "\t\t\t\t\tr = str(r, 'utf-8')\n",
        "\n",
        "\t\t\t\texcept UnicodeDecodeError:\n",
        "\n",
        "\t\t\t\t\t# After checking above condition, Image Download start\n",
        "\t\t\t\t\twith open(f\"{folder_name}/images{i+1}.jpg\", \"wb+\") as f:\n",
        "\t\t\t\t\t\tf.write(r)\n",
        "\n",
        "\t\t\t\t\t# counting number of image downloaded\n",
        "\t\t\t\t\tcount += 1\n",
        "\t\t\texcept:\n",
        "\t\t\t\tpass\n",
        "\n",
        "\t\t# There might be possible, that all\n",
        "\t\t# images not download\n",
        "\t\t# if all images download\n",
        "\t\tif count == len(images):\n",
        "\t\t\tprint(\"All Images Downloaded!\")\n",
        "\t\t\t\n",
        "\t\t# if all images not download\n",
        "\t\telse:\n",
        "\t\t\tprint(f\"Total {count} Images Downloaded Out of {len(images)}\")\n",
        "\n",
        "# MAIN FUNCTION START\n",
        "def main(url):\n",
        "\n",
        "\t# content of URL\n",
        "\tr = requests.get(url)\n",
        "\n",
        "\t# Parse HTML Code\n",
        "\tsoup = BeautifulSoup(r.text, 'html.parser')\n",
        "\n",
        "\t# find all images in URL\n",
        "\timages = soup.findAll('img')\n",
        "\n",
        "\t# Call folder create function\n",
        "\tfolder_create(images)\n",
        "\n",
        "\n",
        "# take url\n",
        "url = input(\"Enter URL:- \")\n",
        "\n",
        "# CALL MAIN FUNCTION\n",
        "main(url)\n"
      ],
      "metadata": {
        "colab": {
          "base_uri": "https://localhost:8080/"
        },
        "id": "TRAPAqyqtDM3",
        "outputId": "114bb0d0-a1ed-4804-aeff-bc259bbf57bd"
      },
      "execution_count": 23,
      "outputs": [
        {
          "output_type": "stream",
          "name": "stdout",
          "text": [
            "Enter URL:- https://gmanga.org/mangas/12255/solo-leveling/2/93520\n",
            "Enter Folder Name:- Solo leveling Arabic\n",
            "Total 0 Image Found!\n"
          ]
        }
      ]
    },
    {
      "cell_type": "markdown",
      "source": [
        "# Try"
      ],
      "metadata": {
        "id": "jBCpR1NG7szk"
      }
    },
    {
      "cell_type": "code",
      "source": [
        "pip install img2pdf"
      ],
      "metadata": {
        "id": "kf64YsHa-qbf"
      },
      "execution_count": null,
      "outputs": []
    },
    {
      "cell_type": "code",
      "source": [
        "import img2pdf\n",
        "\n",
        "im_list = []\n",
        "for i in range(1,38):\n",
        "\tim_list.append(\"/content/Solo leveling Arabic/images{}.jpg\".format(i))\n",
        "\n",
        "with open(\"MANGA.pdf\",\"wb\") as f:\n",
        "\tf.write(img2pdf.convert(im_list))"
      ],
      "metadata": {
        "id": "W24753vc_1Cs"
      },
      "execution_count": null,
      "outputs": []
    }
  ]
}
