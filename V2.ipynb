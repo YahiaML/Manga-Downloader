{
  "nbformat": 4,
  "nbformat_minor": 0,
  "metadata": {
    "colab": {
      "provenance": [],
      "collapsed_sections": [],
      "authorship_tag": "ABX9TyNXWRxjeoE71EVXhDCKK4uk",
      "include_colab_link": true
    },
    "kernelspec": {
      "name": "python3",
      "display_name": "Python 3"
    },
    "language_info": {
      "name": "python"
    }
  },
  "cells": [
    {
      "cell_type": "markdown",
      "metadata": {
        "id": "view-in-github",
        "colab_type": "text"
      },
      "source": [
        "<a href=\"https://colab.research.google.com/github/YahiaML/Manga-Downloader/blob/main/V2.ipynb\" target=\"_parent\"><img src=\"https://colab.research.google.com/assets/colab-badge.svg\" alt=\"Open In Colab\"/></a>"
      ]
    },
    {
      "cell_type": "markdown",
      "source": [
        "#Sucsess"
      ],
      "metadata": {
        "id": "yFc_zF1S7gtS"
      }
    },
    {
      "cell_type": "code",
      "source": [
        "from bs4 import *\n",
        "import requests\n",
        "import os\n",
        "\n",
        "# CREATE FOLDER\n",
        "def folder_create(images):\n",
        "\ttry:\n",
        "\t\tfolder_name = input(\"Enter Folder Name:- \")\n",
        "\t\t# folder creation\n",
        "\t\tos.mkdir(folder_name)\n",
        "\n",
        "\t# if folder exists with that name, ask another name\n",
        "\texcept:\n",
        "\t\tprint(\"Folder Exist with that name!\")\n",
        "\t\tfolder_create()\n",
        "\n",
        "\t# image downloading start\n",
        "\tdownload_images(images, folder_name)\n",
        "\n",
        "\n",
        "# DOWNLOAD ALL IMAGES FROM THAT URL\n",
        "def download_images(images, folder_name):\n",
        "\n",
        "\t# initial count is zero\n",
        "\tcount = 0\n",
        "\n",
        "\t# print total images found in URL\n",
        "\tprint(f\"Total {len(images)} Image Found!\")\n",
        "\n",
        "\t# checking if images is not zero\n",
        "\tif len(images) != 0:\n",
        "\t\tfor i, image in enumerate(images):\n",
        "\t\t\t# From image tag ,Fetch image Source URL\n",
        "\n",
        "\t\t\t\t\t\t# 1.data-srcset\n",
        "\t\t\t\t\t\t# 2.data-src\n",
        "\t\t\t\t\t\t# 3.data-fallback-src\n",
        "\t\t\t\t\t\t# 4.src\n",
        "\n",
        "\t\t\t# Here we will use exception handling\n",
        "\n",
        "\t\t\t# first we will search for \"data-srcset\" in img tag\n",
        "\t\t\ttry:\n",
        "\t\t\t\t# In image tag ,searching for \"data-srcset\"\n",
        "\t\t\t\timage_link = image[\"data-srcset\"]\n",
        "\t\t\t\t\n",
        "\t\t\t# then we will search for \"data-src\" in img\n",
        "\t\t\t# tag and so on..\n",
        "\t\t\texcept:\n",
        "\t\t\t\ttry:\n",
        "\t\t\t\t\t# In image tag ,searching for \"data-src\"\n",
        "\t\t\t\t\timage_link = image[\"data-src\"]\n",
        "\t\t\t\texcept:\n",
        "\t\t\t\t\ttry:\n",
        "\t\t\t\t\t\t# In image tag ,searching for \"data-fallback-src\"\n",
        "\t\t\t\t\t\timage_link = image[\"data-fallback-src\"]\n",
        "\t\t\t\t\texcept:\n",
        "\t\t\t\t\t\ttry:\n",
        "\t\t\t\t\t\t\t# In image tag ,searching for \"src\"\n",
        "\t\t\t\t\t\t\timage_link = image[\"src\"]\n",
        "\n",
        "\t\t\t\t\t\t# if no Source URL found\n",
        "\t\t\t\t\t\texcept:\n",
        "\t\t\t\t\t\t\tpass\n",
        "\n",
        "\t\t\t# After getting Image Source URL\n",
        "\t\t\t# We will try to get the content of image\n",
        "\t\t\ttry:\n",
        "\t\t\t\tr = requests.get(image_link).content\n",
        "\t\t\t\ttry:\n",
        "\n",
        "\t\t\t\t\t# possibility of decode\n",
        "\t\t\t\t\tr = str(r, 'utf-8')\n",
        "\n",
        "\t\t\t\texcept UnicodeDecodeError:\n",
        "\n",
        "\t\t\t\t\t# After checking above condition, Image Download start\n",
        "\t\t\t\t\twith open(f\"{folder_name}/images{i+1}.jpg\", \"wb+\") as f:\n",
        "\t\t\t\t\t\tf.write(r)\n",
        "\n",
        "\t\t\t\t\t# counting number of image downloaded\n",
        "\t\t\t\t\tcount += 1\n",
        "\t\t\texcept:\n",
        "\t\t\t\tpass\n",
        "\n",
        "\t\t# There might be possible, that all\n",
        "\t\t# images not download\n",
        "\t\t# if all images download\n",
        "\t\tif count == len(images):\n",
        "\t\t\tprint(\"All Images Downloaded!\")\n",
        "\t\t\t\n",
        "\t\t# if all images not download\n",
        "\t\telse:\n",
        "\t\t\tprint(f\"Total {count} Images Downloaded Out of {len(images)}\")\n",
        "\n",
        "# MAIN FUNCTION START\n",
        "def main(url):\n",
        "\n",
        "\t# content of URL\n",
        "\tr = requests.get(url)\n",
        "\n",
        "\t# Parse HTML Code\n",
        "\tsoup = BeautifulSoup(r.text, 'html.parser')\n",
        "\n",
        "\t# find all images in URL\n",
        "\timages = soup.findAll('img')\n",
        "\n",
        "\t# Call folder create function\n",
        "\tfolder_create(images)\n",
        "\n",
        "\n",
        "# take url\n",
        "url = input(\"Enter URL:- \")\n",
        "\n",
        "# CALL MAIN FUNCTION\n",
        "main(url)\n"
      ],
      "metadata": {
        "colab": {
          "base_uri": "https://localhost:8080/"
        },
        "id": "TRAPAqyqtDM3",
        "outputId": "7c5d3ad6-b215-4c40-c95b-4f17adfee46b"
      },
      "execution_count": null,
      "outputs": [
        {
          "output_type": "stream",
          "name": "stdout",
          "text": [
            "Enter URL:- https://mangaonlineteam.com/manga/solo-leveling/chapter-38/\n",
            "Enter Folder Name:- Try\n",
            "Total 38 Image Found!\n"
          ]
        }
      ]
    },
    {
      "cell_type": "markdown",
      "source": [
        "# Try"
      ],
      "metadata": {
        "id": "jBCpR1NG7szk"
      }
    },
    {
      "cell_type": "code",
      "source": [
        "!pip3 install img2pdf\n",
        "import os\n",
        "img2pdf = os.system(\"img2pdf /content/Try\")"
      ],
      "metadata": {
        "colab": {
          "base_uri": "https://localhost:8080/"
        },
        "id": "uwZN5J9uVOHs",
        "outputId": "78e9499d-c631-4787-d01d-6ee974abcc65"
      },
      "execution_count": null,
      "outputs": [
        {
          "output_type": "stream",
          "name": "stdout",
          "text": [
            "Looking in indexes: https://pypi.org/simple, https://us-python.pkg.dev/colab-wheels/public/simple/\n",
            "Requirement already satisfied: img2pdf in /usr/local/lib/python3.7/dist-packages (0.4.4)\n",
            "Requirement already satisfied: Pillow in /usr/local/lib/python3.7/dist-packages (from img2pdf) (9.2.0)\n",
            "Requirement already satisfied: pikepdf in /usr/local/lib/python3.7/dist-packages (from img2pdf) (6.2.0)\n",
            "Requirement already satisfied: importlib-metadata>=4 in /usr/local/lib/python3.7/dist-packages (from pikepdf->img2pdf) (4.13.0)\n",
            "Requirement already satisfied: deprecation in /usr/local/lib/python3.7/dist-packages (from pikepdf->img2pdf) (2.1.0)\n",
            "Requirement already satisfied: packaging in /usr/local/lib/python3.7/dist-packages (from pikepdf->img2pdf) (21.3)\n",
            "Requirement already satisfied: lxml>=4.8 in /usr/local/lib/python3.7/dist-packages (from pikepdf->img2pdf) (4.9.1)\n",
            "Requirement already satisfied: typing-extensions>=4 in /usr/local/lib/python3.7/dist-packages (from pikepdf->img2pdf) (4.1.1)\n",
            "Requirement already satisfied: zipp>=0.5 in /usr/local/lib/python3.7/dist-packages (from importlib-metadata>=4->pikepdf->img2pdf) (3.9.0)\n",
            "Requirement already satisfied: pyparsing!=3.0.5,>=2.0.2 in /usr/local/lib/python3.7/dist-packages (from packaging->pikepdf->img2pdf) (3.0.9)\n"
          ]
        }
      ]
    },
    {
      "cell_type": "code",
      "source": [
        "\n",
        "im_list = []\n",
        "for i in range(1,2):\n",
        "\tim_list.append(\"/content/Try/images{}.jpg\".format(i))\n",
        "\n",
        "with open(\"MANGA.pdf\",\"wb\") as f:\n",
        "\tf.write(img2pdf.convert(im_list))"
      ],
      "metadata": {
        "colab": {
          "base_uri": "https://localhost:8080/",
          "height": 208
        },
        "id": "81OhdqpTVi8U",
        "outputId": "7d63616a-c5b3-4cf4-f6fd-15178433cb26"
      },
      "execution_count": null,
      "outputs": [
        {
          "output_type": "error",
          "ename": "AttributeError",
          "evalue": "ignored",
          "traceback": [
            "\u001b[0;31m---------------------------------------------------------------------------\u001b[0m",
            "\u001b[0;31mAttributeError\u001b[0m                            Traceback (most recent call last)",
            "\u001b[0;32m<ipython-input-3-01089179c063>\u001b[0m in \u001b[0;36m<module>\u001b[0;34m\u001b[0m\n\u001b[1;32m      4\u001b[0m \u001b[0;34m\u001b[0m\u001b[0m\n\u001b[1;32m      5\u001b[0m \u001b[0;32mwith\u001b[0m \u001b[0mopen\u001b[0m\u001b[0;34m(\u001b[0m\u001b[0;34m\"MANGA.pdf\"\u001b[0m\u001b[0;34m,\u001b[0m\u001b[0;34m\"wb\"\u001b[0m\u001b[0;34m)\u001b[0m \u001b[0;32mas\u001b[0m \u001b[0mf\u001b[0m\u001b[0;34m:\u001b[0m\u001b[0;34m\u001b[0m\u001b[0;34m\u001b[0m\u001b[0m\n\u001b[0;32m----> 6\u001b[0;31m         \u001b[0mf\u001b[0m\u001b[0;34m.\u001b[0m\u001b[0mwrite\u001b[0m\u001b[0;34m(\u001b[0m\u001b[0mimg2pdf\u001b[0m\u001b[0;34m.\u001b[0m\u001b[0mconvert\u001b[0m\u001b[0;34m(\u001b[0m\u001b[0mim_list\u001b[0m\u001b[0;34m)\u001b[0m\u001b[0;34m)\u001b[0m\u001b[0;34m\u001b[0m\u001b[0;34m\u001b[0m\u001b[0m\n\u001b[0m",
            "\u001b[0;31mAttributeError\u001b[0m: 'int' object has no attribute 'convert'"
          ]
        }
      ]
    },
    {
      "cell_type": "code",
      "source": [
        "\n",
        "im_list = []\n",
        "for i in range(1,5):\n",
        "\tim_list.append(\"/content/Solo Leveling Arabic/images{}.jpg\".format(i))\n",
        "\n",
        "with open(\"Solo Leveling Arabic1.pdf\",\"wb\") as f:\n",
        "\tf.write(img2pdf.convert(im_list))"
      ],
      "metadata": {
        "id": "W24753vc_1Cs",
        "colab": {
          "base_uri": "https://localhost:8080/",
          "height": 208
        },
        "outputId": "ecf54b7e-4363-4bd8-d6e7-4973c0812694"
      },
      "execution_count": null,
      "outputs": [
        {
          "output_type": "error",
          "ename": "NameError",
          "evalue": "ignored",
          "traceback": [
            "\u001b[0;31m---------------------------------------------------------------------------\u001b[0m",
            "\u001b[0;31mNameError\u001b[0m                                 Traceback (most recent call last)",
            "\u001b[0;32m<ipython-input-34-b0ec52b0a926>\u001b[0m in \u001b[0;36m<module>\u001b[0;34m\u001b[0m\n\u001b[1;32m      4\u001b[0m \u001b[0;34m\u001b[0m\u001b[0m\n\u001b[1;32m      5\u001b[0m \u001b[0;32mwith\u001b[0m \u001b[0mopen\u001b[0m\u001b[0;34m(\u001b[0m\u001b[0;34m\"Solo Leveling Arabic1.pdf\"\u001b[0m\u001b[0;34m,\u001b[0m\u001b[0;34m\"wb\"\u001b[0m\u001b[0;34m)\u001b[0m \u001b[0;32mas\u001b[0m \u001b[0mf\u001b[0m\u001b[0;34m:\u001b[0m\u001b[0;34m\u001b[0m\u001b[0;34m\u001b[0m\u001b[0m\n\u001b[0;32m----> 6\u001b[0;31m         \u001b[0mf\u001b[0m\u001b[0;34m.\u001b[0m\u001b[0mwrite\u001b[0m\u001b[0;34m(\u001b[0m\u001b[0mimg2pdf\u001b[0m\u001b[0;34m.\u001b[0m\u001b[0mconvert\u001b[0m\u001b[0;34m(\u001b[0m\u001b[0mim_list\u001b[0m\u001b[0;34m)\u001b[0m\u001b[0;34m)\u001b[0m\u001b[0;34m\u001b[0m\u001b[0;34m\u001b[0m\u001b[0m\n\u001b[0m",
            "\u001b[0;31mNameError\u001b[0m: name 'img2pdf' is not defined"
          ]
        }
      ]
    },
    {
      "cell_type": "markdown",
      "source": [
        "#**V2**"
      ],
      "metadata": {
        "id": "wSfWxA93f4Hf"
      }
    },
    {
      "cell_type": "code",
      "source": [
        "import requests \n",
        "from bs4 import BeautifulSoup\n",
        "import os\n",
        "from PIL import Image"
      ],
      "metadata": {
        "id": "mvs0N4EqMGcY"
      },
      "execution_count": null,
      "outputs": []
    },
    {
      "cell_type": "code",
      "source": [
        "url = \"https://mangaonlineteam.com/manga/solo-leveling/chapter-44/\"\n",
        "r = requests.get(url) \n",
        "soup = BeautifulSoup(r.text, 'html.parser') \n",
        "\n",
        "image_list = []\n",
        "for item in soup.find_all('img'):\n",
        "    image_list.append(item['src'])"
      ],
      "metadata": {
        "id": "CTd8r7PgMFMV"
      },
      "execution_count": null,
      "outputs": []
    },
    {
      "cell_type": "code",
      "source": [
        "folder_name = \"Solo\"\n",
        "os.mkdir(folder_name)"
      ],
      "metadata": {
        "id": "dnxT5DhQNbjj"
      },
      "execution_count": null,
      "outputs": []
    },
    {
      "cell_type": "code",
      "source": [
        "count = 1\n",
        "\n",
        "for image_link in image_list:\n",
        "\n",
        "  r = requests.get(image_link).content\n",
        "  with open(f\"{folder_name}/images{count}.jpg\", \"wb+\") as f:\n",
        "    f.write(r)\n",
        "  count+=1"
      ],
      "metadata": {
        "id": "OWEhaSajM_kT"
      },
      "execution_count": null,
      "outputs": []
    },
    {
      "cell_type": "code",
      "source": [
        "image = Image.open(\"/content/Solo/images12.jpg\")"
      ],
      "metadata": {
        "id": "5upwJd6XRIJD"
      },
      "execution_count": null,
      "outputs": []
    },
    {
      "cell_type": "code",
      "source": [
        "!pip install aspose-words"
      ],
      "metadata": {
        "colab": {
          "base_uri": "https://localhost:8080/"
        },
        "id": "MBQN5S0VS-KW",
        "outputId": "981d231c-eb5c-48fa-a355-8837093905ec"
      },
      "execution_count": null,
      "outputs": [
        {
          "output_type": "stream",
          "name": "stdout",
          "text": [
            "Looking in indexes: https://pypi.org/simple, https://us-python.pkg.dev/colab-wheels/public/simple/\n",
            "Collecting aspose-words\n",
            "  Downloading aspose_words-22.10.0-py3-none-manylinux1_x86_64.whl (67.5 MB)\n",
            "\u001b[K     |████████████████████████████████| 67.5 MB 99 kB/s \n",
            "\u001b[?25hInstalling collected packages: aspose-words\n",
            "Successfully installed aspose-words-22.10.0\n"
          ]
        }
      ]
    },
    {
      "cell_type": "code",
      "source": [
        "import aspose.words as aw\n"
      ],
      "metadata": {
        "id": "LGjCq25GS6uU"
      },
      "execution_count": null,
      "outputs": []
    },
    {
      "cell_type": "code",
      "source": [
        "doc = aw.Document()\n",
        "builder = aw.DocumentBuilder(doc)\n",
        "\n",
        "for i in range(1,count):\n",
        "  builder.getPages().insert(1)\n",
        "  builder.insert_image(f\"/content/{folder_name}/images{i}.jpg\")\n",
        "\n",
        "doc.save(f\"{folder_name}.pdf\")\n"
      ],
      "metadata": {
        "colab": {
          "base_uri": "https://localhost:8080/",
          "height": 244
        },
        "id": "qBAvjZEZTvEM",
        "outputId": "3dbbbac8-05c8-4f2d-a10f-e1c70f966aac"
      },
      "execution_count": 35,
      "outputs": [
        {
          "output_type": "error",
          "ename": "AttributeError",
          "evalue": "ignored",
          "traceback": [
            "\u001b[0;31m---------------------------------------------------------------------------\u001b[0m",
            "\u001b[0;31mAttributeError\u001b[0m                            Traceback (most recent call last)",
            "\u001b[0;32m<ipython-input-35-598c856c4c9a>\u001b[0m in \u001b[0;36m<module>\u001b[0;34m\u001b[0m\n\u001b[1;32m      3\u001b[0m \u001b[0;34m\u001b[0m\u001b[0m\n\u001b[1;32m      4\u001b[0m \u001b[0;32mfor\u001b[0m \u001b[0mi\u001b[0m \u001b[0;32min\u001b[0m \u001b[0mrange\u001b[0m\u001b[0;34m(\u001b[0m\u001b[0;36m1\u001b[0m\u001b[0;34m,\u001b[0m\u001b[0mcount\u001b[0m\u001b[0;34m)\u001b[0m\u001b[0;34m:\u001b[0m\u001b[0;34m\u001b[0m\u001b[0;34m\u001b[0m\u001b[0m\n\u001b[0;32m----> 5\u001b[0;31m   \u001b[0mbuilder\u001b[0m\u001b[0;34m.\u001b[0m\u001b[0mgetPages\u001b[0m\u001b[0;34m(\u001b[0m\u001b[0;34m)\u001b[0m\u001b[0;34m.\u001b[0m\u001b[0minsert\u001b[0m\u001b[0;34m(\u001b[0m\u001b[0;36m1\u001b[0m\u001b[0;34m)\u001b[0m\u001b[0;34m\u001b[0m\u001b[0;34m\u001b[0m\u001b[0m\n\u001b[0m\u001b[1;32m      6\u001b[0m   \u001b[0mbuilder\u001b[0m\u001b[0;34m.\u001b[0m\u001b[0minsert_image\u001b[0m\u001b[0;34m(\u001b[0m\u001b[0;34mf\"/content/{folder_name}/images{i}.jpg\"\u001b[0m\u001b[0;34m)\u001b[0m\u001b[0;34m\u001b[0m\u001b[0;34m\u001b[0m\u001b[0m\n\u001b[1;32m      7\u001b[0m \u001b[0;34m\u001b[0m\u001b[0m\n",
            "\u001b[0;31mAttributeError\u001b[0m: 'aspose.words.DocumentBuilder' object has no attribute 'getPages'"
          ]
        }
      ]
    },
    {
      "cell_type": "code",
      "source": [
        "doc = aw.Document()\n",
        "builder = aw.DocumentBuilder(doc)\n",
        "\n",
        "for i in range(1,count):\n",
        "  builder.insert_image(f\"/content/{folder_name}/images{i}.jpg\")\n",
        "\n",
        "doc.save(f\"{folder_name}.pdf\")\n"
      ],
      "metadata": {
        "id": "UGOBt20AVZRg"
      },
      "execution_count": null,
      "outputs": []
    },
    {
      "cell_type": "code",
      "source": [],
      "metadata": {
        "id": "r4mCODiQTxMi"
      },
      "execution_count": null,
      "outputs": []
    }
  ]
}